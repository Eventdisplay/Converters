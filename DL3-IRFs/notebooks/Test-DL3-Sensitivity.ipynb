{
 "cells": [
  {
   "cell_type": "code",
   "execution_count": 1,
   "id": "edb0ac75",
   "metadata": {},
   "outputs": [],
   "source": [
    "%matplotlib inline\n",
    "import matplotlib.pyplot as plt\n",
    "import numpy as np"
   ]
  },
  {
   "cell_type": "code",
   "execution_count": 2,
   "id": "dcc825df",
   "metadata": {},
   "outputs": [],
   "source": [
    "import astropy.units as u\n",
    "from astropy.coordinates import Angle, SkyCoord\n",
    "from regions import CircleSkyRegion\n",
    "\n",
    "from gammapy.irf import load_cta_irfs\n",
    "from gammapy.makers import SpectrumDatasetMaker\n",
    "from gammapy.data import Observation\n",
    "from gammapy.estimators import SensitivityEstimator\n",
    "from gammapy.datasets import SpectrumDataset, SpectrumDatasetOnOff\n",
    "from gammapy.maps import MapAxis\n",
    "from gammapy.irf import EffectiveAreaTable2D, load_cta_irfs, Background2D,EnergyDependentMultiGaussPSF,EnergyDispersion2D, Background3D"
   ]
  },
  {
   "cell_type": "code",
   "execution_count": 3,
   "id": "7efcab2b",
   "metadata": {},
   "outputs": [],
   "source": [
    "center = SkyCoord(\"0 deg\", \"0.5 deg\")\n",
    "region = CircleSkyRegion(center=center, radius=0.1 * u.deg)\n",
    "\n",
    "e_reco = MapAxis.from_energy_bounds(\"0.03 TeV\", \"30 TeV\", nbin=20)\n",
    "e_true = MapAxis.from_energy_bounds(\n",
    "    \"0.01 TeV\", \"100 TeV\", nbin=100, name=\"energy_true\"\n",
    ")\n",
    "\n",
    "empty_dataset = SpectrumDataset.create(\n",
    "    e_reco=e_reco, e_true=e_true, region=region\n",
    ")\n"
   ]
  },
  {
   "cell_type": "code",
   "execution_count": 4,
   "id": "85fadd2f",
   "metadata": {},
   "outputs": [],
   "source": [
    "def load_cta_irfs(filename):\n",
    "\n",
    "    aeff = EffectiveAreaTable2D.read(filename, hdu=\"EFFECTIVE AREA\")\n",
    "    bkg = Background3D.read(filename, hdu=\"BACKGROUND\")\n",
    "    edisp = EnergyDispersion2D.read(filename, hdu=\"ENERGY DISPERSION\")\n",
    "    psf = EnergyDependentMultiGaussPSF.read(filename, hdu=\"POINT SPREAD FUNCTION\")\n",
    "\n",
    "    return dict(aeff=aeff, bkg=bkg, edisp=edisp, psf=psf)"
   ]
  },
  {
   "cell_type": "code",
   "execution_count": 5,
   "id": "13ece815",
   "metadata": {},
   "outputs": [],
   "source": [
    "irfs = load_cta_irfs(\"../data/Prod5-South-20deg-AverageAz-14MSTs37SSTs.180000s-v0.1.fits.gz\")"
   ]
  },
  {
   "cell_type": "code",
   "execution_count": 6,
   "id": "9b1d6357",
   "metadata": {},
   "outputs": [],
   "source": [
    "pointing = SkyCoord(\"0 deg\", \"0 deg\")\n",
    "obs = Observation.create(pointing=pointing, irfs=irfs, livetime=\"50 h\")"
   ]
  },
  {
   "cell_type": "code",
   "execution_count": 7,
   "id": "efdee53e",
   "metadata": {},
   "outputs": [],
   "source": [
    "spectrum_maker = SpectrumDatasetMaker(\n",
    "    selection=[\"exposure\", \"edisp\", \"background\"]\n",
    ")\n",
    "dataset = spectrum_maker.run(empty_dataset, obs)"
   ]
  },
  {
   "cell_type": "code",
   "execution_count": 8,
   "id": "209e972c",
   "metadata": {},
   "outputs": [],
   "source": [
    "containment = 0.68\n",
    "\n",
    "# correct exposure\n",
    "dataset.exposure *= containment\n",
    "\n",
    "# correct background estimation\n",
    "on_radii = obs.psf.containment_radius(\n",
    "    energy=e_reco.center, theta=0.5 * u.deg, fraction=containment\n",
    ")[0]\n",
    "factor = (1 - np.cos(on_radii)) / (1 - np.cos(region.radius))\n",
    "dataset.background *= factor.value.reshape((-1, 1, 1))\n",
    "\n"
   ]
  },
  {
   "cell_type": "code",
   "execution_count": 9,
   "id": "cf4f85b0",
   "metadata": {},
   "outputs": [],
   "source": [
    "dataset_on_off = SpectrumDatasetOnOff.from_spectrum_dataset(\n",
    "    dataset=dataset, acceptance=1, acceptance_off=5\n",
    ")"
   ]
  },
  {
   "cell_type": "code",
   "execution_count": 10,
   "id": "b6c0c6dd",
   "metadata": {},
   "outputs": [],
   "source": [
    "sensitivity_estimator = SensitivityEstimator(\n",
    "    gamma_min=5, n_sigma=3, bkg_syst_fraction=0.10\n",
    ")\n",
    "sensitivity_table = sensitivity_estimator.run(dataset_on_off)"
   ]
  },
  {
   "cell_type": "code",
   "execution_count": 11,
   "id": "488edbe0",
   "metadata": {},
   "outputs": [
    {
     "data": {
      "text/html": [
       "<i>Table length=20</i>\n",
       "<table id=\"table140565437315784\" class=\"table-striped table-bordered table-condensed\">\n",
       "<thead><tr><th>energy</th><th>e2dnde</th><th>excess</th><th>background</th><th>criterion</th></tr></thead>\n",
       "<thead><tr><th>TeV</th><th>erg / (cm2 s)</th><th></th><th></th><th></th></tr></thead>\n",
       "<thead><tr><th>float64</th><th>float64</th><th>float64</th><th>float64</th><th>bytes12</th></tr></thead>\n",
       "<tr><td>0.0356551</td><td>5.08783e-11</td><td>299.189</td><td>2991.89</td><td>bkg</td></tr>\n",
       "<tr><td>0.0503641</td><td>1.18033e-11</td><td>1021.44</td><td>10214.4</td><td>bkg</td></tr>\n",
       "<tr><td>0.0711412</td><td>3.43066e-12</td><td>1397.59</td><td>13975.9</td><td>bkg</td></tr>\n",
       "<tr><td>0.10049</td><td>1.7484e-12</td><td>835.174</td><td>8351.74</td><td>bkg</td></tr>\n",
       "<tr><td>0.141945</td><td>8.55119e-13</td><td>319.552</td><td>3195.52</td><td>bkg</td></tr>\n",
       "<tr><td>0.200503</td><td>3.742e-13</td><td>108.993</td><td>1058.07</td><td>significance</td></tr>\n",
       "<tr><td>0.283218</td><td>2.51134e-13</td><td>66.5612</td><td>384.844</td><td>significance</td></tr>\n",
       "<tr><td>0.400056</td><td>1.90521e-13</td><td>43.4196</td><td>158.179</td><td>significance</td></tr>\n",
       "<tr><td>0.565095</td><td>1.40009e-13</td><td>30.7113</td><td>75.8866</td><td>significance</td></tr>\n",
       "<tr><td>0.798218</td><td>1.10322e-13</td><td>21.9806</td><td>36.6786</td><td>significance</td></tr>\n",
       "<tr><td>1.12751</td><td>8.4422e-14</td><td>15.882</td><td>17.661</td><td>significance</td></tr>\n",
       "<tr><td>1.59265</td><td>7.03207e-14</td><td>11.8365</td><td>8.84114</td><td>significance</td></tr>\n",
       "<tr><td>2.24968</td><td>6.20428e-14</td><td>9.06267</td><td>4.5407</td><td>significance</td></tr>\n",
       "<tr><td>3.17776</td><td>6.21256e-14</td><td>7.02536</td><td>2.28529</td><td>significance</td></tr>\n",
       "<tr><td>4.48871</td><td>5.93081e-14</td><td>5.6607</td><td>1.20064</td><td>significance</td></tr>\n",
       "<tr><td>6.34047</td><td>6.43967e-14</td><td>5</td><td>0.613108</td><td>gamma</td></tr>\n",
       "<tr><td>8.95615</td><td>8.03196e-14</td><td>5</td><td>0.273729</td><td>gamma</td></tr>\n",
       "<tr><td>12.6509</td><td>1.07573e-13</td><td>5</td><td>0.196135</td><td>gamma</td></tr>\n",
       "<tr><td>17.8699</td><td>1.31367e-13</td><td>5</td><td>0.168984</td><td>gamma</td></tr>\n",
       "<tr><td>25.2419</td><td>1.74156e-13</td><td>5</td><td>0.116969</td><td>gamma</td></tr>\n",
       "</table>"
      ],
      "text/plain": [
       "<Table length=20>\n",
       "  energy      e2dnde     excess background  criterion  \n",
       "   TeV    erg / (cm2 s)                                \n",
       " float64     float64    float64  float64     bytes12   \n",
       "--------- ------------- ------- ---------- ------------\n",
       "0.0356551   5.08783e-11 299.189    2991.89          bkg\n",
       "0.0503641   1.18033e-11 1021.44    10214.4          bkg\n",
       "0.0711412   3.43066e-12 1397.59    13975.9          bkg\n",
       "  0.10049    1.7484e-12 835.174    8351.74          bkg\n",
       " 0.141945   8.55119e-13 319.552    3195.52          bkg\n",
       " 0.200503     3.742e-13 108.993    1058.07 significance\n",
       " 0.283218   2.51134e-13 66.5612    384.844 significance\n",
       " 0.400056   1.90521e-13 43.4196    158.179 significance\n",
       " 0.565095   1.40009e-13 30.7113    75.8866 significance\n",
       " 0.798218   1.10322e-13 21.9806    36.6786 significance\n",
       "  1.12751    8.4422e-14  15.882     17.661 significance\n",
       "  1.59265   7.03207e-14 11.8365    8.84114 significance\n",
       "  2.24968   6.20428e-14 9.06267     4.5407 significance\n",
       "  3.17776   6.21256e-14 7.02536    2.28529 significance\n",
       "  4.48871   5.93081e-14  5.6607    1.20064 significance\n",
       "  6.34047   6.43967e-14       5   0.613108        gamma\n",
       "  8.95615   8.03196e-14       5   0.273729        gamma\n",
       "  12.6509   1.07573e-13       5   0.196135        gamma\n",
       "  17.8699   1.31367e-13       5   0.168984        gamma\n",
       "  25.2419   1.74156e-13       5   0.116969        gamma"
      ]
     },
     "execution_count": 11,
     "metadata": {},
     "output_type": "execute_result"
    }
   ],
   "source": [
    "sensitivity_table"
   ]
  },
  {
   "cell_type": "code",
   "execution_count": 12,
   "id": "1c088cd7",
   "metadata": {},
   "outputs": [
    {
     "data": {
      "text/html": [
       "<i>Table length=20</i>\n",
       "<table id=\"table140565437315784\" class=\"table-striped table-bordered table-condensed\">\n",
       "<thead><tr><th>energy</th><th>e2dnde</th><th>excess</th><th>background</th><th>criterion</th></tr></thead>\n",
       "<thead><tr><th>TeV</th><th>erg / (cm2 s)</th><th></th><th></th><th></th></tr></thead>\n",
       "<thead><tr><th>float64</th><th>float64</th><th>float64</th><th>float64</th><th>bytes12</th></tr></thead>\n",
       "<tr><td>0.0356551</td><td>5.08783e-11</td><td>299.189</td><td>2991.89</td><td>bkg</td></tr>\n",
       "<tr><td>0.0503641</td><td>1.18033e-11</td><td>1021.44</td><td>10214.4</td><td>bkg</td></tr>\n",
       "<tr><td>0.0711412</td><td>3.43066e-12</td><td>1397.59</td><td>13975.9</td><td>bkg</td></tr>\n",
       "<tr><td>0.10049</td><td>1.7484e-12</td><td>835.174</td><td>8351.74</td><td>bkg</td></tr>\n",
       "<tr><td>0.141945</td><td>8.55119e-13</td><td>319.552</td><td>3195.52</td><td>bkg</td></tr>\n",
       "<tr><td>0.200503</td><td>3.742e-13</td><td>108.993</td><td>1058.07</td><td>significance</td></tr>\n",
       "<tr><td>0.283218</td><td>2.51134e-13</td><td>66.5612</td><td>384.844</td><td>significance</td></tr>\n",
       "<tr><td>0.400056</td><td>1.90521e-13</td><td>43.4196</td><td>158.179</td><td>significance</td></tr>\n",
       "<tr><td>0.565095</td><td>1.40009e-13</td><td>30.7113</td><td>75.8866</td><td>significance</td></tr>\n",
       "<tr><td>0.798218</td><td>1.10322e-13</td><td>21.9806</td><td>36.6786</td><td>significance</td></tr>\n",
       "<tr><td>1.12751</td><td>8.4422e-14</td><td>15.882</td><td>17.661</td><td>significance</td></tr>\n",
       "<tr><td>1.59265</td><td>7.03207e-14</td><td>11.8365</td><td>8.84114</td><td>significance</td></tr>\n",
       "<tr><td>2.24968</td><td>6.20428e-14</td><td>9.06267</td><td>4.5407</td><td>significance</td></tr>\n",
       "<tr><td>3.17776</td><td>6.21256e-14</td><td>7.02536</td><td>2.28529</td><td>significance</td></tr>\n",
       "<tr><td>4.48871</td><td>5.93081e-14</td><td>5.6607</td><td>1.20064</td><td>significance</td></tr>\n",
       "<tr><td>6.34047</td><td>6.43967e-14</td><td>5</td><td>0.613108</td><td>gamma</td></tr>\n",
       "<tr><td>8.95615</td><td>8.03196e-14</td><td>5</td><td>0.273729</td><td>gamma</td></tr>\n",
       "<tr><td>12.6509</td><td>1.07573e-13</td><td>5</td><td>0.196135</td><td>gamma</td></tr>\n",
       "<tr><td>17.8699</td><td>1.31367e-13</td><td>5</td><td>0.168984</td><td>gamma</td></tr>\n",
       "<tr><td>25.2419</td><td>1.74156e-13</td><td>5</td><td>0.116969</td><td>gamma</td></tr>\n",
       "</table>"
      ],
      "text/plain": [
       "<Table length=20>\n",
       "  energy      e2dnde     excess background  criterion  \n",
       "   TeV    erg / (cm2 s)                                \n",
       " float64     float64    float64  float64     bytes12   \n",
       "--------- ------------- ------- ---------- ------------\n",
       "0.0356551   5.08783e-11 299.189    2991.89          bkg\n",
       "0.0503641   1.18033e-11 1021.44    10214.4          bkg\n",
       "0.0711412   3.43066e-12 1397.59    13975.9          bkg\n",
       "  0.10049    1.7484e-12 835.174    8351.74          bkg\n",
       " 0.141945   8.55119e-13 319.552    3195.52          bkg\n",
       " 0.200503     3.742e-13 108.993    1058.07 significance\n",
       " 0.283218   2.51134e-13 66.5612    384.844 significance\n",
       " 0.400056   1.90521e-13 43.4196    158.179 significance\n",
       " 0.565095   1.40009e-13 30.7113    75.8866 significance\n",
       " 0.798218   1.10322e-13 21.9806    36.6786 significance\n",
       "  1.12751    8.4422e-14  15.882     17.661 significance\n",
       "  1.59265   7.03207e-14 11.8365    8.84114 significance\n",
       "  2.24968   6.20428e-14 9.06267     4.5407 significance\n",
       "  3.17776   6.21256e-14 7.02536    2.28529 significance\n",
       "  4.48871   5.93081e-14  5.6607    1.20064 significance\n",
       "  6.34047   6.43967e-14       5   0.613108        gamma\n",
       "  8.95615   8.03196e-14       5   0.273729        gamma\n",
       "  12.6509   1.07573e-13       5   0.196135        gamma\n",
       "  17.8699   1.31367e-13       5   0.168984        gamma\n",
       "  25.2419   1.74156e-13       5   0.116969        gamma"
      ]
     },
     "execution_count": 12,
     "metadata": {},
     "output_type": "execute_result"
    }
   ],
   "source": [
    "sensitivity_table"
   ]
  },
  {
   "cell_type": "code",
   "execution_count": 13,
   "id": "2926b300",
   "metadata": {},
   "outputs": [
    {
     "data": {
      "image/png": "[encoded data removed]",
      "text/plain": [
       "<Figure size 432x288 with 1 Axes>"
      ]
     },
     "metadata": {
      "needs_background": "light"
     },
     "output_type": "display_data"
    }
   ],
   "source": [
    "# Plot the sensitivity curve\n",
    "t = sensitivity_table\n",
    "\n",
    "is_s = t[\"criterion\"] == \"significance\"\n",
    "plt.plot(\n",
    "    t[\"energy\"][is_s],\n",
    "    t[\"e2dnde\"][is_s],\n",
    "    \"s-\",\n",
    "    color=\"red\",\n",
    "    label=\"significance\",\n",
    ")\n",
    "\n",
    "is_g = t[\"criterion\"] == \"gamma\"\n",
    "plt.plot(\n",
    "    t[\"energy\"][is_g], t[\"e2dnde\"][is_g], \"*-\", color=\"blue\", label=\"gamma\"\n",
    ")\n",
    "is_bkg_syst = t[\"criterion\"] == \"bkg\"\n",
    "plt.plot(\n",
    "    t[\"energy\"][is_bkg_syst],\n",
    "    t[\"e2dnde\"][is_bkg_syst],\n",
    "    \"v-\",\n",
    "    color=\"green\",\n",
    "    label=\"bkg syst\",\n",
    ")\n",
    "\n",
    "plt.loglog()\n",
    "plt.xlabel(f\"Energy ({t['energy'].unit})\")\n",
    "plt.ylabel(f\"Sensitivity ({t['e2dnde'].unit})\")\n",
    "plt.legend();"
   ]
  },
  {
   "cell_type": "code",
   "execution_count": 14,
   "id": "12ebf867",
   "metadata": {},
   "outputs": [
    {
     "data": {
      "text/plain": [
       "(0.01, 0.5)"
      ]
     },
     "execution_count": 14,
     "metadata": {},
     "output_type": "execute_result"
    },
    {
     "data": {
      "image/png": "[encoded data removed]",
      "text/plain": [
       "<Figure size 432x288 with 2 Axes>"
      ]
     },
     "metadata": {
      "needs_background": "light"
     },
     "output_type": "display_data"
    }
   ],
   "source": [
    "# Plot expected number of counts for signal and background\n",
    "fig, ax1 = plt.subplots()\n",
    "# ax1.plot( t[\"energy\"], t[\"excess\"],\"o-\", color=\"red\", label=\"signal\")\n",
    "ax1.plot(\n",
    "    t[\"energy\"], t[\"background\"], \"o-\", color=\"black\", label=\"blackground\"\n",
    ")\n",
    "\n",
    "ax1.loglog()\n",
    "ax1.set_xlabel(f\"Energy ({t['energy'].unit})\")\n",
    "ax1.set_ylabel(\"Expected number of bkg counts\")\n",
    "\n",
    "ax2 = ax1.twinx()\n",
    "ax2.set_ylabel(f\"ON region radius ({on_radii.unit})\", color=\"red\")\n",
    "ax2.semilogy(t[\"energy\"], on_radii, color=\"red\", label=\"PSF68\")\n",
    "ax2.tick_params(axis=\"y\", labelcolor=\"red\")\n",
    "ax2.set_ylim(0.01, 0.5)"
   ]
  },
  {
   "cell_type": "code",
   "execution_count": null,
   "id": "d9f35cbe",
   "metadata": {},
   "outputs": [],
   "source": []
  }
 ],
 "metadata": {
  "kernelspec": {
   "display_name": "Python 3",
   "language": "python",
   "name": "python3"
  },
  "language_info": {
   "codemirror_mode": {
    "name": "ipython",
    "version": 3
   },
   "file_extension": ".py",
   "mimetype": "text/x-python",
   "name": "python",
   "nbconvert_exporter": "python",
   "pygments_lexer": "ipython3",
   "version": "3.7.0"
  }
 },
 "nbformat": 4,
 "nbformat_minor": 5
}
