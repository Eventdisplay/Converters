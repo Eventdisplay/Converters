{
 "cells": [
  {
   "cell_type": "markdown",
   "id": "3cb40667",
   "metadata": {},
   "source": [
    "# IRF Header comparision\n",
    "\n",
    "Notebook to print header data and compare it with other IRFs"
   ]
  },
  {
   "cell_type": "code",
   "execution_count": 1,
   "id": "8565c6d2",
   "metadata": {},
   "outputs": [],
   "source": [
    "from astropy.io import fits\n",
    "import matplotlib.pyplot as plt\n",
    "import numpy as np\n",
    "from astropy import units as u"
   ]
  },
  {
   "cell_type": "code",
   "execution_count": 32,
   "id": "715139be",
   "metadata": {},
   "outputs": [],
   "source": [
    "# test IRFs\n",
    "hdul = fits.open(\"../data/test.fits.gz\")\n",
    "# ctools-converted IRFs\n",
    "q=fits.open(\"../data/Prod5-Paranal-MST3SST3-20deg-S-M6C5-14MSTs40SSTs-MSTF.180000s-IRFv01.fits\")\n",
    "# pyIRF IRFs\n",
    "p=fits.open(\"../data/4LSTs25MSTs70SSTs-MSTF_pyirf_eventdisplay.fits.gz\")"
   ]
  },
  {
   "cell_type": "code",
   "execution_count": 33,
   "id": "c69af805",
   "metadata": {},
   "outputs": [
    {
     "name": "stdout",
     "output_type": "stream",
     "text": [
      "Filename: ../data/test.fits.gz\n",
      "No.    Name      Ver    Type      Cards   Dimensions   Format\n",
      "  0  PRIMARY       1 PrimaryHDU       9   ()      \n",
      "  1  EFFECTIVE AREA    1 BinTableHDU     37   1R x 5C   [42E, 42E, 6E, 6E, 252E]   \n",
      "  2  POINT SPREAD FUNCTION    1 BinTableHDU     55   1R x 10C   [21E, 21E, 6E, 6E, 126E, 126E, 126E, 126E, 126E, 126E]   \n",
      "  3  POINT SPREAD FUNCTION    1 BinTableHDU     42   1R x 7C   [25E, 25E, 9000E, 9000E, 6E, 6E, 1350000E]   \n",
      "  4  ENERGY DISPERSION    1 BinTableHDU     40   1R x 7C   [60E, 60E, 300E, 300E, 6E, 6E, 108000E]   \n",
      "  5  BACKGROUND    1 BinTableHDU     37   1R x 5C   [21E, 21E, 6E, 6E, 126E]   \n",
      "  6  BACKGROUND    1 BinTableHDU     42   0R x 7C   [21E, 21E, 30E, 30E, 30E, 30E, 18900E]   \n"
     ]
    }
   ],
   "source": [
    "hdul.info()"
   ]
  },
  {
   "cell_type": "code",
   "execution_count": 34,
   "id": "bf67a2a8",
   "metadata": {},
   "outputs": [
    {
     "name": "stdout",
     "output_type": "stream",
     "text": [
      "Filename: ../data/Prod5-Paranal-MST3SST3-20deg-S-M6C5-14MSTs40SSTs-MSTF.180000s-IRFv01.fits\n",
      "No.    Name      Ver    Type      Cards   Dimensions   Format\n",
      "  0  PRIMARY       1 PrimaryHDU       8   ()      \n",
      "  1  EFFECTIVE AREA    1 BinTableHDU     53   1R x 5C   [42E, 42E, 6E, 6E, 252E]   \n",
      "  2  POINT SPREAD FUNCTION    1 BinTableHDU     73   1R x 10C   [25E, 25E, 6E, 6E, 150E, 150E, 150E, 150E, 150E, 150E]   \n",
      "  3  ENERGY DISPERSION    1 BinTableHDU     59   1R x 7C   [500E, 500E, 300E, 300E, 6E, 6E, 900000E]   \n",
      "  4  BACKGROUND    1 BinTableHDU     59   1R x 7C   [36E, 36E, 36E, 36E, 21E, 21E, 27216E]   \n"
     ]
    }
   ],
   "source": [
    "q.info()"
   ]
  },
  {
   "cell_type": "code",
   "execution_count": 35,
   "id": "d2cda7f7",
   "metadata": {},
   "outputs": [
    {
     "name": "stdout",
     "output_type": "stream",
     "text": [
      "Filename: ../data/4LSTs25MSTs70SSTs-MSTF_pyirf_eventdisplay.fits.gz\n",
      "No.    Name      Ver    Type      Cards   Dimensions   Format\n",
      "  0  PRIMARY       1 PrimaryHDU       4   ()      \n",
      "  1  SENSITIVITY    1 BinTableHDU     45   23R x 14C   [D, D, D, D, D, D, D, D, D, D, D, D, D, D]   \n",
      "  2  THETA_CUTS    1 BinTableHDU     21   212R x 4C   [D, D, D, D]   \n",
      "  3  GH_CUTS       1 BinTableHDU     20   23R x 4C   [D, D, D, D]   \n",
      "  4  EFFECTIVE_AREA    1 BinTableHDU     38   1R x 5C   [44D, 44D, D, D, 44D]   \n",
      "  5  ENERGY_DISPERSION    1 BinTableHDU     46   1R x 7C   [44D, 44D, 199D, 199D, D, D, 8756D]   \n",
      "  6  EFFECTIVE_AREA_NO_CUTS    1 BinTableHDU     38   1R x 5C   [44D, 44D, D, D, 44D]   \n",
      "  7  ENERGY_DISPERSION_NO_CUTS    1 BinTableHDU     46   1R x 7C   [44D, 44D, 199D, 199D, D, D, 8756D]   \n",
      "  8  EFFECTIVE_AREA_ONLY_GH    1 BinTableHDU     38   1R x 5C   [44D, 44D, D, D, 44D]   \n",
      "  9  ENERGY_DISPERSION_ONLY_GH    1 BinTableHDU     46   1R x 7C   [44D, 44D, 199D, 199D, D, D, 8756D]   \n",
      " 10  EFFECTIVE_AREA_ONLY_THETA    1 BinTableHDU     38   1R x 5C   [44D, 44D, D, D, 44D]   \n",
      " 11  ENERGY_DISPERSION_ONLY_THETA    1 BinTableHDU     46   1R x 7C   [44D, 44D, 199D, 199D, D, D, 8756D]   \n",
      " 12  BACKGROUND    1 BinTableHDU     38   1R x 5C   [23D, 23D, 10D, 10D, 230D]   \n",
      " 13  PSF           1 BinTableHDU     46   1R x 7C   [44D, 44D, D, D, 1000D, 1000D, 44000D]   \n",
      " 14  RAD_MAX       1 BinTableHDU     38   1R x 5C   [212D, 212D, D, D, 212D]   \n",
      " 15  ANGULAR_RESOLUTION    1 BinTableHDU     21   23R x 4C   [D, D, D, D]   \n",
      " 16  ENERGY_BIAS_RESOLUTION    1 BinTableHDU     22   23R x 5C   [D, D, D, D, D]   \n"
     ]
    }
   ],
   "source": [
    "p.info()"
   ]
  },
  {
   "cell_type": "code",
   "execution_count": 36,
   "id": "06e0cdc2",
   "metadata": {},
   "outputs": [
    {
     "name": "stdout",
     "output_type": "stream",
     "text": [
      "XTENSION= 'BINTABLE'           / binary table extension                         BITPIX  =                    8 / 8-bit bytes                                    NAXIS   =                    2 / 2-dimensional binary table                     NAXIS1  =                76248 / width of table in bytes                        NAXIS2  =                    0 / number of rows in table                        PCOUNT  =                    0 / size of special data area                      GCOUNT  =                    1 / one data group (required keyword)              TFIELDS =                    7 / number of fields in each row                   TTYPE1  = 'ENERG_LO'           / label for field   1                            TFORM1  = '21E     '           / data format of field: 4-byte REAL              TUNIT1  = 'TeV     '           / physical unit of field                         TTYPE2  = 'ENERG_HI'           / label for field   2                            TFORM2  = '21E     '           / data format of field: 4-byte REAL              TUNIT2  = 'TeV     '           / physical unit of field                         TTYPE3  = 'DETX_LO '           / label for field   3                            TFORM3  = '30E     '           / data format of field: 4-byte REAL              TUNIT3  = 'deg     '           / physical unit of field                         TTYPE4  = 'DETX_HI '           / label for field   4                            TFORM4  = '30E     '           / data format of field: 4-byte REAL              TUNIT4  = 'deg     '           / physical unit of field                         TTYPE5  = 'DETY_LO '           / label for field   5                            TFORM5  = '30E     '           / data format of field: 4-byte REAL              TUNIT5  = 'deg     '           / physical unit of field                         TTYPE6  = 'DETY_HI '           / label for field   6                            TFORM6  = '30E     '           / data format of field: 4-byte REAL              TUNIT6  = 'deg     '           / physical unit of field                         TTYPE7  = 'BCK     '           / label for field   7                            TFORM7  = '18900E  '           / data format of field: 4-byte REAL              TUNIT7  = 's^-1 MeV^-1 sr^-1'  / physical unit of field                         EXTNAME = 'BACKGROUND'         / name of this binary table extension            TDIM7   = '(21,30,30)'         / size of the multidimensional array             TELESCOP= 'CTA     '           / Name of telescope                              INSTRUME= 'Southern Array'     / Instrument                                     AUTHOR  = 'G.Maier '           / Author                                         ORIGIN  = 'DESY    '           / Origin                                         DATE    = '2021-06-21T12:06:20' / File creation date (YYYY-MM-DDThh:mm:ss UTC)  HDUDOC  = 'https://github.com/open-gamma-ray-astro/gamma-astro-data-formats'    HDUVERS = '0.2     '           / HDU version                                    HDUCLASS= 'GADF    '           / HDUCLASS                                       HDUCLAS1= 'RESPONSE'           / HDUCLAS1                                       HDUCLAS3= 'FULL-ENCLOSURE'     / HDUCLAS3                                       HDUCLAS4= 'BKG_3D  '           / HDUCLAS4                                       END                                                                                                                                                                                                                                                                                                                                                                                                                                                                                                                                                                                                                                                                                                                                                                                                                                                                                                                                                                                                                                                                                                                                                                                                                                                                                                                                                                                                                                                                                                                                                                                                                                                                                                                                                                                                                                                                                                                                                                                                                                                                                                                                                                                                                                                                                                                                                                                                                                                                                             \n"
     ]
    }
   ],
   "source": [
    "print(hdul[6].header)"
   ]
  },
  {
   "cell_type": "code",
   "execution_count": 37,
   "id": "0948e7c0",
   "metadata": {},
   "outputs": [
    {
     "name": "stdout",
     "output_type": "stream",
     "text": [
      "XTENSION= 'BINTABLE'           / binary table extension                         BITPIX  =                    8 / 8-bit bytes                                    NAXIS   =                    2 / 2-dimensional binary table                     NAXIS1  =               109608 / width of table in bytes                        NAXIS2  =                    1 / number of rows in table                        PCOUNT  =                    0 / size of special data area                      GCOUNT  =                    1 / one data group (required keyword)              TFIELDS =                    7 / number of table fields                         TTYPE1  = 'DETX_LO '           / label for field   1                            TFORM1  = '36E     '           / data format of field 1                         TUNIT1  = 'deg     '           / physical unit of field1                        TTYPE2  = 'DETX_HI '           / label for field   2                            TFORM2  = '36E     '           / data format of field 2                         TUNIT2  = 'deg     '           / physical unit of field2                        TTYPE3  = 'DETY_LO '           / label for field   3                            TFORM3  = '36E     '           / data format of field 3                         TUNIT3  = 'deg     '           / physical unit of field3                        TTYPE4  = 'DETY_HI '           / label for field   4                            TFORM4  = '36E     '           / data format of field 4                         TUNIT4  = 'deg     '           / physical unit of field4                        TTYPE5  = 'ENERG_LO'           / label for field   5                            TFORM5  = '21E     '           / data format of field 5                         TUNIT5  = 'TeV     '           / physical unit of field5                        TTYPE6  = 'ENERG_HI'           / label for field   6                            TFORM6  = '21E     '           / data format of field 6                         TUNIT6  = 'TeV     '           / physical unit of field6                        TTYPE7  = 'BKG     '           / label for field   7                            TFORM7  = '27216E  '           / data format of field 7                         TUNIT7  = '1/(MeV s sr)'       / physical unit of field7                        EXTNAME = 'BACKGROUND'         / name of this extension                         ORIGIN  = 'IRAP    '           / Name of organization making this file          DATE    = '2021-04-28T15:47:58' / File creation date (YYYY-MM-DDThh:mm:ss UTC)  TELESCOP= 'CTA     '           / Name of telescope                              INSTRUME= 'PROD5-V1'           / Name of instrument                             DETNAM  = 'NONE    '           / Name of detector                               HDUCLASS= 'OGIP    '           / HDU class                                      HDUDOC  = '???     '           / HDU documentation                              HDUCLAS1= 'RESPONSE'           / HDU class                                      HDUCLAS2= 'BKG     '           / HDU class                                      HDUCLAS3= 'FULL-ENCLOSURE'     / HDU class                                      HDUCLAS4= '3D      '           / HDU class                                      HDUVERS = '0.2     '           / HDU version                                    CSYSNAME= 'XMA_POL '                                                            CCLS0001= 'BCF     '           / Calibration class                              CDTP0001= 'DATA    '           / Calibration type                               CCNM0001= 'BKG     '           / Calibration name                               CBD10001= 'NAME(South_14M40S-M6C5_sens_z20_50h)' / Calibration boundary         CBD20001= 'VERSION(prod5-v1)'  / Calibration boundary                           CBD30001= 'CLASS(BEST)'        / Calibration boundary                           CBD40001= 'ANALYSIS(ASWG)'     / Calibration boundary                           CBD50001= 'ZENITH(20.000)deg'  / Calibration boundary                           CBD60001= 'AZIMUTH(90.000)deg' / Calibration boundary                           CBD70001= 'NONE    '           / Calibration boundary                           CBD80001= 'NONE    '           / Calibration boundary                           CBD90001= 'NONE    '           / Calibration boundary                           CVSD0001= '2014-01-30'         / Calibration validity start date (UTC)          CVST0001= '00:00:00'           / Calibration validity start time (UTC)          CDEC0001= 'CTA background'     / Calibration description                        TDIM7   = '(36,36,21)'         / dimensions of field 7                          END                                                                                                                                                                                                                                                                                                                                                                                                                                                                                                                                                                                                                                                                                                                                                                                                                                                                                                                                                                                                                                                                             \n"
     ]
    }
   ],
   "source": [
    "print(q[4].header)"
   ]
  },
  {
   "cell_type": "code",
   "execution_count": 38,
   "id": "fdd0715b",
   "metadata": {},
   "outputs": [
    {
     "name": "stdout",
     "output_type": "stream",
     "text": [
      "XTENSION= 'BINTABLE'           / binary table extension                         BITPIX  =                    8 / array data type                                NAXIS   =                    2 / number of array dimensions                     NAXIS1  =                 2368 / length of dimension 1                          NAXIS2  =                    1 / length of dimension 2                          PCOUNT  =                    0 / number of group parameters                     GCOUNT  =                    1 / number of groups                               TFIELDS =                    5 / number of table fields                         CREATOR = 'pyirf v0.4.2.dev14+g650c801.d20210514'                               HDUDOC  = 'https://github.com/open-gamma-ray-astro/gamma-astro-data-formats'    HDUVERS = '0.2     '                                                            HDUCLASS= 'GADF    '                                                            HDUCLAS1= 'RESPONSE'                                                            HDUCLAS2= 'BKG     '                                                            HDUCLAS3= 'FULL-ENCLOSURE'                                                      HDUCLAS4= 'BKG_2D  '                                                            DATE    = '2021-05-14 08:54:12.125'                                             EXTNAME = 'BACKGROUND'         / extension name                                 TTYPE1  = 'ENERG_LO'                                                            TFORM1  = '23D     '                                                            TUNIT1  = 'TeV     '                                                            TDIM1   = '(23)    '                                                            TTYPE2  = 'ENERG_HI'                                                            TFORM2  = '23D     '                                                            TUNIT2  = 'TeV     '                                                            TDIM2   = '(23)    '                                                            TTYPE3  = 'THETA_LO'                                                            TFORM3  = '10D     '                                                            TUNIT3  = 'deg     '                                                            TDIM3   = '(10)    '                                                            TTYPE4  = 'THETA_HI'                                                            TFORM4  = '10D     '                                                            TUNIT4  = 'deg     '                                                            TDIM4   = '(10)    '                                                            TTYPE5  = 'BKG     '                                                            TFORM5  = '230D    '                                                            TUNIT5  = 'MeV-1 s-1 sr-1'                                                      TDIM5   = '(23,10) '                                                            END                                                                                                                                                                                                                                                                                                                                                                                                                                                                                                                                                                                                                                                                                                                                                                                                                                                                                                                                                                                                                                                                                                                                                                                                                                                                                                                                                                                                                                                                                                                                                                                                                                                                                                                                                                                                                                                                                                                                                                                                                                                                                                                                                                                                                                                                                                                                                                                                                                                                                                                                                                                                                                                                                                                                                                                                                             \n"
     ]
    }
   ],
   "source": [
    "print(p[12].header)"
   ]
  },
  {
   "cell_type": "code",
   "execution_count": 39,
   "id": "3e362801",
   "metadata": {},
   "outputs": [
    {
     "data": {
      "text/plain": [
       "ColDefs(\n",
       "    name = 'ENERG_LO'; format = '21E'; unit = 'TeV'\n",
       "    name = 'ENERG_HI'; format = '21E'; unit = 'TeV'\n",
       "    name = 'DETX_LO'; format = '30E'; unit = 'deg'\n",
       "    name = 'DETX_HI'; format = '30E'; unit = 'deg'\n",
       "    name = 'DETY_LO'; format = '30E'; unit = 'deg'\n",
       "    name = 'DETY_HI'; format = '30E'; unit = 'deg'\n",
       "    name = 'BCK'; format = '18900E'; unit = 's^-1 MeV^-1 sr^-1'; dim = '(21,30,30)'\n",
       ")"
      ]
     },
     "execution_count": 39,
     "metadata": {},
     "output_type": "execute_result"
    }
   ],
   "source": [
    "hdul[6].columns"
   ]
  },
  {
   "cell_type": "code",
   "execution_count": 40,
   "id": "6f632cf7",
   "metadata": {},
   "outputs": [
    {
     "data": {
      "text/plain": [
       "ColDefs(\n",
       "    name = 'DETX_LO'; format = '36E'; unit = 'deg'\n",
       "    name = 'DETX_HI'; format = '36E'; unit = 'deg'\n",
       "    name = 'DETY_LO'; format = '36E'; unit = 'deg'\n",
       "    name = 'DETY_HI'; format = '36E'; unit = 'deg'\n",
       "    name = 'ENERG_LO'; format = '21E'; unit = 'TeV'\n",
       "    name = 'ENERG_HI'; format = '21E'; unit = 'TeV'\n",
       "    name = 'BKG'; format = '27216E'; unit = '1/(MeV s sr)'; dim = '(36,36,21)'\n",
       ")"
      ]
     },
     "execution_count": 40,
     "metadata": {},
     "output_type": "execute_result"
    }
   ],
   "source": [
    "q[4].columns"
   ]
  },
  {
   "cell_type": "code",
   "execution_count": 17,
   "id": "ff208b30",
   "metadata": {},
   "outputs": [
    {
     "data": {
      "text/plain": [
       "ColDefs(\n",
       "    name = 'ENERG_LO'; format = '23D'; unit = 'TeV'; dim = '(23)'\n",
       "    name = 'ENERG_HI'; format = '23D'; unit = 'TeV'; dim = '(23)'\n",
       "    name = 'THETA_LO'; format = '10D'; unit = 'deg'; dim = '(10)'\n",
       "    name = 'THETA_HI'; format = '10D'; unit = 'deg'; dim = '(10)'\n",
       "    name = 'BKG'; format = '230D'; unit = 'MeV-1 s-1 sr-1'; dim = '(23,10)'\n",
       ")"
      ]
     },
     "execution_count": 17,
     "metadata": {},
     "output_type": "execute_result"
    }
   ],
   "source": [
    "p[12].columns"
   ]
  },
  {
   "cell_type": "code",
   "execution_count": 55,
   "id": "b73e882a",
   "metadata": {},
   "outputs": [],
   "source": [
    "hdata=hdul[3].data"
   ]
  },
  {
   "cell_type": "code",
   "execution_count": 79,
   "id": "92102c2e",
   "metadata": {},
   "outputs": [
    {
     "data": {
      "text/plain": [
       "(1, 6, 300, 60)"
      ]
     },
     "execution_count": 79,
     "metadata": {},
     "output_type": "execute_result"
    }
   ],
   "source": [
    "hdata.field(6).shape"
   ]
  },
  {
   "cell_type": "code",
   "execution_count": 87,
   "id": "2c9426c4",
   "metadata": {},
   "outputs": [],
   "source": [
    "d = data.field(6)[0]"
   ]
  },
  {
   "cell_type": "code",
   "execution_count": 88,
   "id": "1e242a8b",
   "metadata": {},
   "outputs": [
    {
     "name": "stdout",
     "output_type": "stream",
     "text": [
      "[[[0. 0. 0. ... 0. 0. 0.]\n",
      "  [0. 0. 0. ... 0. 0. 0.]\n",
      "  [0. 0. 0. ... 0. 0. 0.]\n",
      "  ...\n",
      "  [0. 0. 0. ... 0. 0. 0.]\n",
      "  [0. 0. 0. ... 0. 0. 0.]\n",
      "  [0. 0. 0. ... 0. 0. 0.]]\n",
      "\n",
      " [[0. 0. 0. ... 0. 0. 0.]\n",
      "  [0. 0. 0. ... 0. 0. 0.]\n",
      "  [0. 0. 0. ... 0. 0. 0.]\n",
      "  ...\n",
      "  [0. 0. 0. ... 0. 0. 0.]\n",
      "  [0. 0. 0. ... 0. 0. 0.]\n",
      "  [0. 0. 0. ... 0. 0. 0.]]\n",
      "\n",
      " [[0. 0. 0. ... 0. 0. 0.]\n",
      "  [0. 0. 0. ... 0. 0. 0.]\n",
      "  [0. 0. 0. ... 0. 0. 0.]\n",
      "  ...\n",
      "  [0. 0. 0. ... 0. 0. 0.]\n",
      "  [0. 0. 0. ... 0. 0. 0.]\n",
      "  [0. 0. 0. ... 0. 0. 0.]]\n",
      "\n",
      " [[0. 0. 0. ... 0. 0. 0.]\n",
      "  [0. 0. 0. ... 0. 0. 0.]\n",
      "  [0. 0. 0. ... 0. 0. 0.]\n",
      "  ...\n",
      "  [0. 0. 0. ... 0. 0. 0.]\n",
      "  [0. 0. 0. ... 0. 0. 0.]\n",
      "  [0. 0. 0. ... 0. 0. 0.]]\n",
      "\n",
      " [[0. 0. 0. ... 0. 0. 0.]\n",
      "  [0. 0. 0. ... 0. 0. 0.]\n",
      "  [0. 0. 0. ... 0. 0. 0.]\n",
      "  ...\n",
      "  [0. 0. 0. ... 0. 0. 0.]\n",
      "  [0. 0. 0. ... 0. 0. 0.]\n",
      "  [0. 0. 0. ... 0. 0. 0.]]\n",
      "\n",
      " [[0. 0. 0. ... 0. 0. 0.]\n",
      "  [0. 0. 0. ... 0. 0. 0.]\n",
      "  [0. 0. 0. ... 0. 0. 0.]\n",
      "  ...\n",
      "  [0. 0. 0. ... 0. 0. 0.]\n",
      "  [0. 0. 0. ... 0. 0. 0.]\n",
      "  [0. 0. 0. ... 0. 0. 0.]]]\n"
     ]
    }
   ],
   "source": [
    "print(d)"
   ]
  },
  {
   "cell_type": "code",
   "execution_count": 19,
   "id": "0e1c8ae3",
   "metadata": {},
   "outputs": [],
   "source": [
    "q=fits.open(\"../data/irf_file.fits\")\n",
    "#q=fits.open(\"../data/4LSTs25MSTs70SSTs-MSTF_pyirf_eventdisplay.fits.gz\")"
   ]
  },
  {
   "cell_type": "code",
   "execution_count": 20,
   "id": "058d599c",
   "metadata": {},
   "outputs": [
    {
     "name": "stdout",
     "output_type": "stream",
     "text": [
      "Filename: ../data/irf_file.fits\n",
      "No.    Name      Ver    Type      Cards   Dimensions   Format\n",
      "  0  PRIMARY       1 PrimaryHDU       8   ()      \n",
      "  1  EFFECTIVE AREA    1 BinTableHDU     53   1R x 5C   [42E, 42E, 6E, 6E, 252E]   \n",
      "  2  POINT SPREAD FUNCTION    1 BinTableHDU     73   1R x 10C   [25E, 25E, 6E, 6E, 150E, 150E, 150E, 150E, 150E, 150E]   \n",
      "  3  ENERGY DISPERSION    1 BinTableHDU     59   1R x 7C   [500E, 500E, 300E, 300E, 6E, 6E, 900000E]   \n",
      "  4  BACKGROUND    1 BinTableHDU     59   1R x 7C   [36E, 36E, 36E, 36E, 21E, 21E, 27216E]   \n"
     ]
    }
   ],
   "source": [
    "q.info()"
   ]
  },
  {
   "cell_type": "code",
   "execution_count": 52,
   "id": "96bb4d84",
   "metadata": {},
   "outputs": [
    {
     "data": {
      "text/plain": [
       "ColDefs(\n",
       "    name = 'ENERG_LO'; format = '500E'; unit = 'TeV'\n",
       "    name = 'ENERG_HI'; format = '500E'; unit = 'TeV'\n",
       "    name = 'MIGRA_LO'; format = '300E'\n",
       "    name = 'MIGRA_HI'; format = '300E'\n",
       "    name = 'THETA_LO'; format = '6E'; unit = 'deg'\n",
       "    name = 'THETA_HI'; format = '6E'; unit = 'deg'\n",
       "    name = 'MATRIX'; format = '900000E'; dim = '(500,300,6)'\n",
       ")"
      ]
     },
     "execution_count": 52,
     "metadata": {},
     "output_type": "execute_result"
    }
   ],
   "source": [
    "q[3].columns"
   ]
  },
  {
   "cell_type": "code",
   "execution_count": 66,
   "id": "7ae4cc0e",
   "metadata": {},
   "outputs": [],
   "source": [
    "data=q[3].data"
   ]
  },
  {
   "cell_type": "code",
   "execution_count": 78,
   "id": "4662cca4",
   "metadata": {},
   "outputs": [
    {
     "data": {
      "text/plain": [
       "(1, 6, 300, 500)"
      ]
     },
     "execution_count": 78,
     "metadata": {},
     "output_type": "execute_result"
    }
   ],
   "source": [
    "data.field(6).shape"
   ]
  },
  {
   "cell_type": "code",
   "execution_count": 83,
   "id": "f19588ed",
   "metadata": {},
   "outputs": [
    {
     "data": {
      "text/plain": [
       "array([[[0., 0., 0., ..., 0., 0., 0.],\n",
       "        [0., 0., 0., ..., 0., 0., 0.],\n",
       "        [0., 0., 0., ..., 0., 0., 0.],\n",
       "        ...,\n",
       "        [0., 0., 0., ..., 0., 0., 0.],\n",
       "        [0., 0., 0., ..., 0., 0., 0.],\n",
       "        [0., 0., 0., ..., 0., 0., 0.]],\n",
       "\n",
       "       [[0., 0., 0., ..., 0., 0., 0.],\n",
       "        [0., 0., 0., ..., 0., 0., 0.],\n",
       "        [0., 0., 0., ..., 0., 0., 0.],\n",
       "        ...,\n",
       "        [0., 0., 0., ..., 0., 0., 0.],\n",
       "        [0., 0., 0., ..., 0., 0., 0.],\n",
       "        [0., 0., 0., ..., 0., 0., 0.]],\n",
       "\n",
       "       [[0., 0., 0., ..., 0., 0., 0.],\n",
       "        [0., 0., 0., ..., 0., 0., 0.],\n",
       "        [0., 0., 0., ..., 0., 0., 0.],\n",
       "        ...,\n",
       "        [0., 0., 0., ..., 0., 0., 0.],\n",
       "        [0., 0., 0., ..., 0., 0., 0.],\n",
       "        [0., 0., 0., ..., 0., 0., 0.]],\n",
       "\n",
       "       [[0., 0., 0., ..., 0., 0., 0.],\n",
       "        [0., 0., 0., ..., 0., 0., 0.],\n",
       "        [0., 0., 0., ..., 0., 0., 0.],\n",
       "        ...,\n",
       "        [0., 0., 0., ..., 0., 0., 0.],\n",
       "        [0., 0., 0., ..., 0., 0., 0.],\n",
       "        [0., 0., 0., ..., 0., 0., 0.]],\n",
       "\n",
       "       [[0., 0., 0., ..., 0., 0., 0.],\n",
       "        [0., 0., 0., ..., 0., 0., 0.],\n",
       "        [0., 0., 0., ..., 0., 0., 0.],\n",
       "        ...,\n",
       "        [0., 0., 0., ..., 0., 0., 0.],\n",
       "        [0., 0., 0., ..., 0., 0., 0.],\n",
       "        [0., 0., 0., ..., 0., 0., 0.]],\n",
       "\n",
       "       [[0., 0., 0., ..., 0., 0., 0.],\n",
       "        [0., 0., 0., ..., 0., 0., 0.],\n",
       "        [0., 0., 0., ..., 0., 0., 0.],\n",
       "        ...,\n",
       "        [0., 0., 0., ..., 0., 0., 0.],\n",
       "        [0., 0., 0., ..., 0., 0., 0.],\n",
       "        [0., 0., 0., ..., 0., 0., 0.]]], dtype=float32)"
      ]
     },
     "execution_count": 83,
     "metadata": {},
     "output_type": "execute_result"
    }
   ],
   "source": [
    "data.field(6)[0]"
   ]
  },
  {
   "cell_type": "code",
   "execution_count": 292,
   "id": "4f2e38ee",
   "metadata": {},
   "outputs": [
    {
     "name": "stdout",
     "output_type": "stream",
     "text": [
      "XTENSION= 'BINTABLE'           / binary table extension                         BITPIX  =                    8 / 8-bit bytes                                    NAXIS   =                    2 / 2-dimensional binary table                     NAXIS1  =                 3848 / width of table in bytes                        NAXIS2  =                    1 / number of rows in table                        PCOUNT  =                    0 / size of special data area                      GCOUNT  =                    1 / one data group (required keyword)              TFIELDS =                   10 / number of table fields                         TTYPE1  = 'ENERG_LO'           / label for field   1                            TFORM1  = '25E     '           / data format of field 1                         TUNIT1  = 'TeV     '           / physical unit of field1                        TTYPE2  = 'ENERG_HI'           / label for field   2                            TFORM2  = '25E     '           / data format of field 2                         TUNIT2  = 'TeV     '           / physical unit of field2                        TTYPE3  = 'THETA_LO'           / label for field   3                            TFORM3  = '6E      '           / data format of field 3                         TUNIT3  = 'deg     '           / physical unit of field3                        TTYPE4  = 'THETA_HI'           / label for field   4                            TFORM4  = '6E      '           / data format of field 4                         TUNIT4  = 'deg     '           / physical unit of field4                        TTYPE5  = 'SCALE   '           / label for field   5                            TFORM5  = '150E    '           / data format of field 5                         TTYPE6  = 'SIGMA_1 '           / label for field   6                            TFORM6  = '150E    '           / data format of field 6                         TUNIT6  = 'deg     '           / physical unit of field6                        TTYPE7  = 'AMPL_2  '           / label for field   7                            TFORM7  = '150E    '           / data format of field 7                         TTYPE8  = 'SIGMA_2 '           / label for field   8                            TFORM8  = '150E    '           / data format of field 8                         TUNIT8  = 'deg     '           / physical unit of field8                        TTYPE9  = 'AMPL_3  '           / label for field   9                            TFORM9  = '150E    '           / data format of field 9                         TTYPE10 = 'SIGMA_3 '           / label for field   10                           TFORM10 = '150E    '           / data format of field 10                        TUNIT10 = 'deg     '           / physical unit of field10                       EXTNAME = 'POINT SPREAD FUNCTION' / name of this extension                      ORIGIN  = 'IRAP    '           / Name of organization making this file          DATE    = '2021-04-28T15:49:21' / File creation date (YYYY-MM-DDThh:mm:ss UTC)  TELESCOP= 'CTA     '           / Name of telescope                              INSTRUME= 'PROD5-V1'           / Name of instrument                             DETNAM  = 'NONE    '           / Name of detector                               HDUCLASS= 'OGIP    '           / HDU class                                      HDUDOC  = 'CAL/GEN/92-020'     / HDU documentation                              HDUCLAS1= 'RESPONSE'           / HDU class                                      HDUCLAS2= 'RPSF    '           / HDU class                                      HDUCLAS3= 'FULL-ENCLOSURE'     / HDU class                                      HDUCLAS4= '3GAUSS  '           / HDU class                                      HDUVERS = '0.2     '           / HDU version                                    CSYSNAME= 'XMA_POL '                                                            CCLS0001= 'BCF     '           / Calibration class                              CDTP0001= 'DATA    '           / Calibration type                               CCNM0001= 'RPSF    '           / Calibration name                               CBD10001= 'NAME(South_14M40S-M6C5_prec_z20_50h)' / Calibration boundary         CBD20001= 'VERSION(prod5-v1)'  / Calibration boundary                           CBD30001= 'CLASS(BEST)'        / Calibration boundary                           CBD40001= 'ANALYSIS(ASWG)'     / Calibration boundary                           CBD50001= 'ZENITH(20.000)deg'  / Calibration boundary                           CBD60001= 'AZIMUTH(90.000)deg' / Calibration boundary                           CBD70001= 'PSF(GAUSS)'         / Calibration boundary                           CBD80001= 'NONE    '           / Calibration boundary                           CBD90001= 'NONE    '           / Calibration boundary                           CVSD0001= '2014-01-30'         / Calibration validity start date (UTC)          CVST0001= '00:00:00'           / Calibration validity start time (UTC)          CDEC0001= 'CTA point spread function' / Calibration description                 TUNIT5  = '        '           / physical unit of field5                        TDIM5   = '(25,6)  '           / dimensions of field 5                          TDIM6   = '(25,6)  '           / dimensions of field 6                          TUNIT7  = '        '           / physical unit of field7                        TDIM7   = '(25,6)  '           / dimensions of field 7                          TDIM8   = '(25,6)  '           / dimensions of field 8                          TUNIT9  = '        '           / physical unit of field9                        TDIM9   = '(25,6)  '           / dimensions of field 9                          TDIM10  = '(25,6)  '           / dimensions of field 10                         END                                                                                                                                                                                                                                                                                                                                                                                                                                                                                                                                                                                                                                                                                                                                                                                                                                                                                                                                                                                                                                                                                                                                                                                                                                                                                                                                                                                                                                                                                                                                                                                                                                                                                                                                                                                                                                                                                                                                                                                                                                                                                                                                                                                                                                                                                                                                                                                                                                                                                                                                                                                                                                                                                                                                                                                                                                                                                                             \n"
     ]
    }
   ],
   "source": [
    "print(q[2].header)"
   ]
  },
  {
   "cell_type": "code",
   "execution_count": 30,
   "id": "eb3d9192",
   "metadata": {},
   "outputs": [
    {
     "name": "stdout",
     "output_type": "stream",
     "text": [
      "(0.012589254117941675, 0.0199526231496888, 0.016270938633815235, 0.3360409098688003)\n"
     ]
    }
   ],
   "source": [
    "print(data[1])"
   ]
  },
  {
   "cell_type": "code",
   "execution_count": 32,
   "id": "006bf2db",
   "metadata": {},
   "outputs": [
    {
     "data": {
      "text/plain": [
       "array([1.25892541e-02, 1.99526231e-02, 3.16227766e-02, 5.01187234e-02,\n",
       "       7.94328235e-02, 1.25892541e-01, 1.99526231e-01, 3.16227766e-01,\n",
       "       5.01187234e-01, 7.94328235e-01, 1.25892541e+00, 1.99526231e+00,\n",
       "       3.16227766e+00, 5.01187234e+00, 7.94328235e+00, 1.25892541e+01,\n",
       "       1.99526231e+01, 3.16227766e+01, 5.01187234e+01, 7.94328235e+01,\n",
       "       1.25892541e+02, 1.99526231e+02,            inf])"
      ]
     },
     "execution_count": 32,
     "metadata": {},
     "output_type": "execute_result"
    }
   ],
   "source": [
    "data.field(1)"
   ]
  },
  {
   "cell_type": "code",
   "execution_count": 50,
   "id": "a78aa0fc",
   "metadata": {},
   "outputs": [
    {
     "name": "stderr",
     "output_type": "stream",
     "text": [
      "/Users/maierg/miniconda3/envs/gammapy-0.18.2/lib/python3.7/site-packages/ipykernel_launcher.py:1: RuntimeWarning: divide by zero encountered in log10\n",
      "  \"\"\"Entry point for launching an IPython kernel.\n"
     ]
    },
    {
     "data": {
      "text/plain": [
       "[<matplotlib.lines.Line2D at 0x7f834439eb00>]"
      ]
     },
     "execution_count": 50,
     "metadata": {},
     "output_type": "execute_result"
    },
    {
     "data": {
      "image/png": "[encoded data removed]",
      "text/plain": [
       "<Figure size 432x288 with 1 Axes>"
      ]
     },
     "metadata": {
      "needs_background": "light"
     },
     "output_type": "display_data"
    }
   ],
   "source": [
    "plt.plot(np.log10(data.field(0)),data.field(3))"
   ]
  },
  {
   "cell_type": "code",
   "execution_count": 39,
   "id": "85e54853",
   "metadata": {},
   "outputs": [
    {
     "name": "stdout",
     "output_type": "stream",
     "text": [
      "[-inf -1.9 -1.7 -1.5 -1.3 -1.1 -0.9 -0.7 -0.5 -0.3 -0.1  0.1  0.3  0.5\n",
      "  0.7  0.9  1.1  1.3  1.5  1.7  1.9  2.1  2.3]\n"
     ]
    },
    {
     "name": "stderr",
     "output_type": "stream",
     "text": [
      "/Users/maierg/miniconda3/envs/gammapy-0.18.2/lib/python3.7/site-packages/ipykernel_launcher.py:1: RuntimeWarning: divide by zero encountered in log10\n",
      "  \"\"\"Entry point for launching an IPython kernel.\n"
     ]
    }
   ],
   "source": [
    "print(np.log10(data.field(0)))"
   ]
  },
  {
   "cell_type": "code",
   "execution_count": 51,
   "id": "7146b25a",
   "metadata": {},
   "outputs": [
    {
     "data": {
      "text/plain": [
       "ColDefs(\n",
       "    name = 'ENERG_LO'; format = '44D'; unit = 'TeV'; dim = '(44)'\n",
       "    name = 'ENERG_HI'; format = '44D'; unit = 'TeV'; dim = '(44)'\n",
       "    name = 'THETA_LO'; format = 'D'; unit = 'deg'; dim = '(1)'\n",
       "    name = 'THETA_HI'; format = 'D'; unit = 'deg'; dim = '(1)'\n",
       "    name = 'EFFAREA'; format = '44D'; unit = 'm2'; dim = '(44,1)'\n",
       ")"
      ]
     },
     "execution_count": 51,
     "metadata": {},
     "output_type": "execute_result"
    }
   ],
   "source": [
    "p[4].columns"
   ]
  },
  {
   "cell_type": "code",
   "execution_count": 52,
   "id": "1f39ce93",
   "metadata": {},
   "outputs": [],
   "source": []
  },
  {
   "cell_type": "code",
   "execution_count": 53,
   "id": "5523c50d",
   "metadata": {},
   "outputs": [
    {
     "name": "stdout",
     "output_type": "stream",
     "text": [
      "Filename: fits/irf_file.fits\n",
      "No.    Name      Ver    Type      Cards   Dimensions   Format\n",
      "  0  PRIMARY       1 PrimaryHDU       8   ()      \n",
      "  1  EFFECTIVE AREA    1 BinTableHDU     53   1R x 5C   [42E, 42E, 6E, 6E, 252E]   \n",
      "  2  POINT SPREAD FUNCTION    1 BinTableHDU     73   1R x 10C   [25E, 25E, 6E, 6E, 150E, 150E, 150E, 150E, 150E, 150E]   \n",
      "  3  ENERGY DISPERSION    1 BinTableHDU     59   1R x 7C   [500E, 500E, 300E, 300E, 6E, 6E, 900000E]   \n",
      "  4  BACKGROUND    1 BinTableHDU     59   1R x 7C   [36E, 36E, 36E, 36E, 21E, 21E, 27216E]   \n"
     ]
    }
   ],
   "source": [
    "q.info()"
   ]
  },
  {
   "cell_type": "code",
   "execution_count": 54,
   "id": "cbac5ed1",
   "metadata": {},
   "outputs": [
    {
     "name": "stdout",
     "output_type": "stream",
     "text": [
      "SIMPLE  =                    T / file does conform to FITS standard             BITPIX  =                    8 / number of bits per data pixel                  NAXIS   =                    0 / number of data axes                            EXTEND  =                    T / FITS dataset may contain extensions            COMMENT   FITS (Flexible Image Transport System) format is defined in 'AstronomyCOMMENT   and Astrophysics', volume 376, page 359; bibcode: 2001A&A...376..359H COMMENT   FITS (Flexible Image Transport System) format is defined in 'AstronomyCOMMENT   and Astrophysics', volume 376, page 359; bibcode: 2001A&A...376..359H END                                                                                                                                                                                                                                                                                                                                                                                                                                                                                                                                                                                                                                                                                                                                                                                                                                                                                                                                                                                                                                                                                                                                                                                                                                                                                                                                                                                                                                                                                                                                                                                                                                                                                                                                                                                                                                                                                                                                                                                                                                                                                                                                                                                                                                                                                                                             \n"
     ]
    }
   ],
   "source": [
    "print(q[0].header)"
   ]
  },
  {
   "cell_type": "code",
   "execution_count": 59,
   "id": "d6b316df",
   "metadata": {},
   "outputs": [],
   "source": [
    "data=q[1].data"
   ]
  },
  {
   "cell_type": "code",
   "execution_count": 60,
   "id": "d734f642",
   "metadata": {},
   "outputs": [
    {
     "data": {
      "text/plain": [
       "ColDefs(\n",
       "    name = 'ENERG_LO'; format = '42E'; unit = 'TeV'\n",
       "    name = 'ENERG_HI'; format = '42E'; unit = 'TeV'\n",
       "    name = 'THETA_LO'; format = '6E'; unit = 'deg'\n",
       "    name = 'THETA_HI'; format = '6E'; unit = 'deg'\n",
       "    name = 'EFFAREA'; format = '252E'; unit = 'm**2'; dim = '(42,6)'\n",
       ")"
      ]
     },
     "execution_count": 60,
     "metadata": {},
     "output_type": "execute_result"
    }
   ],
   "source": [
    "q[1].columns"
   ]
  },
  {
   "cell_type": "code",
   "execution_count": 61,
   "id": "7577d55d",
   "metadata": {},
   "outputs": [
    {
     "data": {
      "text/plain": [
       "ColDefs(\n",
       "    name = 'ENERG_LO'; format = '25E'; unit = 'TeV'\n",
       "    name = 'ENERG_HI'; format = '25E'; unit = 'TeV'\n",
       "    name = 'THETA_LO'; format = '6E'; unit = 'deg'\n",
       "    name = 'THETA_HI'; format = '6E'; unit = 'deg'\n",
       "    name = 'SCALE'; format = '150E'; dim = '(25,6)'\n",
       "    name = 'SIGMA_1'; format = '150E'; unit = 'deg'; dim = '(25,6)'\n",
       "    name = 'AMPL_2'; format = '150E'; dim = '(25,6)'\n",
       "    name = 'SIGMA_2'; format = '150E'; unit = 'deg'; dim = '(25,6)'\n",
       "    name = 'AMPL_3'; format = '150E'; dim = '(25,6)'\n",
       "    name = 'SIGMA_3'; format = '150E'; unit = 'deg'; dim = '(25,6)'\n",
       ")"
      ]
     },
     "execution_count": 61,
     "metadata": {},
     "output_type": "execute_result"
    }
   ],
   "source": [
    "q[2].columns"
   ]
  },
  {
   "cell_type": "code",
   "execution_count": 62,
   "id": "10543752",
   "metadata": {},
   "outputs": [
    {
     "data": {
      "text/plain": [
       "ColDefs(\n",
       "    name = 'ENERG_LO'; format = '500E'; unit = 'TeV'\n",
       "    name = 'ENERG_HI'; format = '500E'; unit = 'TeV'\n",
       "    name = 'MIGRA_LO'; format = '300E'\n",
       "    name = 'MIGRA_HI'; format = '300E'\n",
       "    name = 'THETA_LO'; format = '6E'; unit = 'deg'\n",
       "    name = 'THETA_HI'; format = '6E'; unit = 'deg'\n",
       "    name = 'MATRIX'; format = '900000E'; dim = '(500,300,6)'\n",
       ")"
      ]
     },
     "execution_count": 62,
     "metadata": {},
     "output_type": "execute_result"
    }
   ],
   "source": [
    "q[3].columns"
   ]
  },
  {
   "cell_type": "code",
   "execution_count": 63,
   "id": "58555f8b",
   "metadata": {},
   "outputs": [
    {
     "data": {
      "text/plain": [
       "ColDefs(\n",
       "    name = 'DETX_LO'; format = '36E'; unit = 'deg'\n",
       "    name = 'DETX_HI'; format = '36E'; unit = 'deg'\n",
       "    name = 'DETY_LO'; format = '36E'; unit = 'deg'\n",
       "    name = 'DETY_HI'; format = '36E'; unit = 'deg'\n",
       "    name = 'ENERG_LO'; format = '21E'; unit = 'TeV'\n",
       "    name = 'ENERG_HI'; format = '21E'; unit = 'TeV'\n",
       "    name = 'BKG'; format = '27216E'; unit = '1/(MeV s sr)'; dim = '(36,36,21)'\n",
       ")"
      ]
     },
     "execution_count": 63,
     "metadata": {},
     "output_type": "execute_result"
    }
   ],
   "source": [
    "q[4].columns"
   ]
  },
  {
   "cell_type": "code",
   "execution_count": 73,
   "id": "975e4cbc",
   "metadata": {},
   "outputs": [],
   "source": [
    "data=q[1].data"
   ]
  },
  {
   "cell_type": "code",
   "execution_count": 78,
   "id": "9eb977ab",
   "metadata": {},
   "outputs": [
    {
     "name": "stdout",
     "output_type": "stream",
     "text": [
      "[[-1.9        -1.8        -1.7        -1.6        -1.5        -1.4\n",
      "  -1.3        -1.2        -1.1        -1.         -0.90000004 -0.8\n",
      "  -0.7        -0.6        -0.5        -0.4        -0.3        -0.19999999\n",
      "  -0.10000001  0.          0.10000001  0.2         0.29999998  0.39999998\n",
      "   0.5         0.6         0.7         0.8         0.9         1.\n",
      "   1.1         1.2         1.3         1.4         1.5         1.6\n",
      "   1.7         1.8         1.9         2.          2.1         2.2       ]]\n"
     ]
    }
   ],
   "source": [
    "print(np.log10(data.field(0)))"
   ]
  },
  {
   "cell_type": "code",
   "execution_count": 79,
   "id": "47a58f46",
   "metadata": {},
   "outputs": [],
   "source": [
    "cols = q[1].columns"
   ]
  },
  {
   "cell_type": "code",
   "execution_count": 80,
   "id": "59532081",
   "metadata": {},
   "outputs": [
    {
     "name": "stdout",
     "output_type": "stream",
     "text": [
      "name:\n",
      "    ['ENERG_LO', 'ENERG_HI', 'THETA_LO', 'THETA_HI', 'EFFAREA']\n",
      "format:\n",
      "    ['42E', '42E', '6E', '6E', '252E']\n",
      "unit:\n",
      "    ['TeV', 'TeV', 'deg', 'deg', 'm**2']\n",
      "null:\n",
      "    ['', '', '', '', '']\n",
      "bscale:\n",
      "    ['', '', '', '', '']\n",
      "bzero:\n",
      "    ['', '', '', '', '']\n",
      "disp:\n",
      "    ['', '', '', '', '']\n",
      "start:\n",
      "    ['', '', '', '', '']\n",
      "dim:\n",
      "    ['', '', '', '', '(42,6)']\n",
      "coord_type:\n",
      "    ['', '', '', '', '']\n",
      "coord_unit:\n",
      "    ['', '', '', '', '']\n",
      "coord_ref_point:\n",
      "    ['', '', '', '', '']\n",
      "coord_ref_value:\n",
      "    ['', '', '', '', '']\n",
      "coord_inc:\n",
      "    ['', '', '', '', '']\n",
      "time_ref_pos:\n",
      "    ['', '', '', '', '']\n"
     ]
    }
   ],
   "source": [
    "cols.info()"
   ]
  },
  {
   "cell_type": "code",
   "execution_count": 112,
   "id": "d4afab41",
   "metadata": {},
   "outputs": [],
   "source": [
    "a=24*u.Unit('m**2')"
   ]
  },
  {
   "cell_type": "code",
   "execution_count": 113,
   "id": "6bed3cb8",
   "metadata": {},
   "outputs": [
    {
     "data": {
      "text/latex": [
       "$24 \\; \\mathrm{m^{2}}$"
      ],
      "text/plain": [
       "<Quantity 24. m2>"
      ]
     },
     "execution_count": 113,
     "metadata": {},
     "output_type": "execute_result"
    }
   ],
   "source": [
    "a"
   ]
  },
  {
   "cell_type": "code",
   "execution_count": 114,
   "id": "e4231a63",
   "metadata": {},
   "outputs": [],
   "source": [
    "b=24*u.Unit('m2')"
   ]
  },
  {
   "cell_type": "code",
   "execution_count": 115,
   "id": "a7b8fe40",
   "metadata": {},
   "outputs": [
    {
     "data": {
      "text/latex": [
       "$24 \\; \\mathrm{m^{2}}$"
      ],
      "text/plain": [
       "<Quantity 24. m2>"
      ]
     },
     "execution_count": 115,
     "metadata": {},
     "output_type": "execute_result"
    }
   ],
   "source": [
    "b"
   ]
  },
  {
   "cell_type": "code",
   "execution_count": null,
   "id": "74807286",
   "metadata": {},
   "outputs": [],
   "source": []
  },
  {
   "cell_type": "code",
   "execution_count": null,
   "id": "d5adb194",
   "metadata": {},
   "outputs": [],
   "source": []
  },
  {
   "cell_type": "code",
   "execution_count": null,
   "id": "63bd4f95",
   "metadata": {},
   "outputs": [],
   "source": []
  }
 ],
 "metadata": {
  "kernelspec": {
   "display_name": "Python 3",
   "language": "python",
   "name": "python3"
  },
  "language_info": {
   "codemirror_mode": {
    "name": "ipython",
    "version": 3
   },
   "file_extension": ".py",
   "mimetype": "text/x-python",
   "name": "python",
   "nbconvert_exporter": "python",
   "pygments_lexer": "ipython3",
   "version": "3.7.0"
  }
 },
 "nbformat": 4,
 "nbformat_minor": 5
}
