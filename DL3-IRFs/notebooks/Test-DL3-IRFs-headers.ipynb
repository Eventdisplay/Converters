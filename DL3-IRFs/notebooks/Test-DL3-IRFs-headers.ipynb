{
 "cells": [
  {
   "cell_type": "markdown",
   "id": "30db8ea8",
   "metadata": {},
   "source": [
    "# IRF Header comparision\n",
    "\n",
    "Notebook to print header data and compare it with other IRFs"
   ]
  },
  {
   "cell_type": "code",
   "execution_count": 1,
   "id": "945ff087",
   "metadata": {},
   "outputs": [],
   "source": [
    "from astropy.io import fits\n",
    "import matplotlib.pyplot as plt\n",
    "import numpy as np\n",
    "from astropy import units as u"
   ]
  },
  {
   "cell_type": "code",
   "execution_count": 3,
   "id": "aff02bf0",
   "metadata": {},
   "outputs": [],
   "source": [
    "# test IRFs\n",
    "#hdul = fits.open(\"../data/Prod5-South-20deg-AverageAz-14MSTs37SSTs.180000s-v0.1.fits.gz\")\n",
    "hdul = fits.open(\"/Users/maierg/DESYCloud/CTA/CTA-Science/Simulations/Public-Products/Public-IRFs/prod5-v0.2-IRFs/fits/Prod5-South-20deg-AverageAz-14MSTs37SSTs.180000s-v0.2.fits.gz\")\n",
    "\n",
    "# ctools-converted IRFs\n",
    "#q=fits.open(\"../data/ctools.fits.gz\")"
   ]
  },
  {
   "cell_type": "code",
   "execution_count": 4,
   "id": "7ce35e90",
   "metadata": {},
   "outputs": [
    {
     "name": "stdout",
     "output_type": "stream",
     "text": [
      "Filename: /Users/maierg/DESYCloud/CTA/CTA-Science/Simulations/Public-Products/Public-IRFs/prod5-v0.2-IRFs/fits/Prod5-South-20deg-AverageAz-14MSTs37SSTs.180000s-v0.2.fits.gz\n",
      "No.    Name      Ver    Type      Cards   Dimensions   Format\n",
      "  0  PRIMARY       1 PrimaryHDU       9   ()      \n",
      "  1  EFFECTIVE AREA    1 BinTableHDU     37   1R x 5C   [42E, 42E, 6E, 6E, 252E]   \n",
      "  2  POINT SPREAD FUNCTION    1 BinTableHDU     55   1R x 10C   [21E, 21E, 6E, 6E, 126E, 126E, 126E, 126E, 126E, 126E]   \n",
      "  3  ENERGY DISPERSION    1 BinTableHDU     40   1R x 7C   [300E, 300E, 300E, 300E, 6E, 6E, 540000E]   \n",
      "  4  BACKGROUND    1 BinTableHDU     44   1R x 7C   [21E, 21E, 60E, 60E, 60E, 60E, 75600E]   \n"
     ]
    }
   ],
   "source": [
    "hdul.info()"
   ]
  },
  {
   "cell_type": "code",
   "execution_count": 5,
   "id": "bebbd706",
   "metadata": {},
   "outputs": [
    {
     "ename": "NameError",
     "evalue": "name 'q' is not defined",
     "output_type": "error",
     "traceback": [
      "\u001b[0;31m---------------------------------------------------------------------------\u001b[0m",
      "\u001b[0;31mNameError\u001b[0m                                 Traceback (most recent call last)",
      "\u001b[0;32m/var/folders/7g/6gc4xbhx02l1bpb3fh7pjqn40000gn/T/ipykernel_4758/2302739837.py\u001b[0m in \u001b[0;36m<module>\u001b[0;34m\u001b[0m\n\u001b[0;32m----> 1\u001b[0;31m \u001b[0mq\u001b[0m\u001b[0;34m.\u001b[0m\u001b[0minfo\u001b[0m\u001b[0;34m(\u001b[0m\u001b[0;34m)\u001b[0m\u001b[0;34m\u001b[0m\u001b[0;34m\u001b[0m\u001b[0m\n\u001b[0m",
      "\u001b[0;31mNameError\u001b[0m: name 'q' is not defined"
     ]
    }
   ],
   "source": [
    "q.info()"
   ]
  },
  {
   "cell_type": "code",
   "execution_count": 6,
   "id": "23f576e1",
   "metadata": {},
   "outputs": [
    {
     "name": "stdout",
     "output_type": "stream",
     "text": [
      "XTENSION= 'BINTABLE'           / binary table extension                         BITPIX  =                    8 / 8-bit bytes                                    NAXIS   =                    2 / 2-dimensional binary table                     NAXIS1  =                 3240 / width of table in bytes                        NAXIS2  =                    1 / number of rows in table                        PCOUNT  =                    0 / size of special data area                      GCOUNT  =                    1 / one data group (required keyword)              TFIELDS =                   10 / number of fields in each row                   TTYPE1  = 'ENERG_LO'           / label for field   1                            TFORM1  = '21E     '           / data format of field: 4-byte REAL              TUNIT1  = 'TeV     '           / physical unit of field                         TTYPE2  = 'ENERG_HI'           / label for field   2                            TFORM2  = '21E     '           / data format of field: 4-byte REAL              TUNIT2  = 'TeV     '           / physical unit of field                         TTYPE3  = 'THETA_LO'           / label for field   3                            TFORM3  = '6E      '           / data format of field: 4-byte REAL              TUNIT3  = 'deg     '           / physical unit of field                         TTYPE4  = 'THETA_HI'           / label for field   4                            TFORM4  = '6E      '           / data format of field: 4-byte REAL              TUNIT4  = 'deg     '           / physical unit of field                         TTYPE5  = 'SCALE   '           / label for field   5                            TFORM5  = '126E    '           / data format of field: 4-byte REAL              TUNIT5  = 'sr^(-1) '           / physical unit of field                         TTYPE6  = 'SIGMA_1 '           / label for field   6                            TFORM6  = '126E    '           / data format of field: 4-byte REAL              TUNIT6  = 'deg     '           / physical unit of field                         TTYPE7  = 'SIGMA_2 '           / label for field   7                            TFORM7  = '126E    '           / data format of field: 4-byte REAL              TUNIT7  = 'deg     '           / physical unit of field                         TTYPE8  = 'SIGMA_3 '           / label for field   8                            TFORM8  = '126E    '           / data format of field: 4-byte REAL              TUNIT8  = 'deg     '           / physical unit of field                         TTYPE9  = 'AMPL_2  '           / label for field   9                            TFORM9  = '126E    '           / data format of field: 4-byte REAL              TTYPE10 = 'AMPL_3  '           / label for field  10                            TFORM10 = '126E    '           / data format of field: 4-byte REAL              EXTNAME = 'POINT SPREAD FUNCTION' / name of this binary table extension         TDIM5   = '(21,6)  '           / size of the multidimensional array             TDIM6   = '(21,6)  '           / size of the multidimensional array             TDIM7   = '(21,6)  '           / size of the multidimensional array             TDIM8   = '(21,6)  '           / size of the multidimensional array             TDIM9   = '(21,6)  '           / size of the multidimensional array             TDIM10  = '(21,6)  '           / size of the multidimensional array             TELESCOP= 'CTA     '           / Name of telescope                              INSTRUME= 'Southern Array'     / Instrument                                     AUTHOR  = 'G.Maier '           / Author                                         ORIGIN  = 'CTAO    '           / Origin                                         DATE    = '2022-04-29T08:43:49' / File creation date (YYYY-MM-DDThh:mm:ss UTC)  HDUDOC  = 'https://github.com/open-gamma-ray-astro/gamma-astro-data-formats'    HDUVERS = '0.2     '           / HDU version                                    HDUCLASS= 'GADF    '           / HDUCLASS                                       HDUCLAS1= 'RESPONSE'           / HDUCLAS1                                       HDUCLAS2= 'PSF     '           / HDUCLAS2                                       HDUCLAS3= 'FULL-ENCLOSURE'     / HDUCLAS3                                       HDUCLAS4= 'PSF_3GAUSS'         / HDUCLAS4                                       END                                                                                                                                                                                                                                                                                                                                                                                                                                                                                                                                                                                                                                                                                                                                                                                                                                                                                                                                                                                                                                                                                                                                                                                                                                                                                                                                                                                                             \n"
     ]
    }
   ],
   "source": [
    "print(hdul[2].header)"
   ]
  },
  {
   "cell_type": "code",
   "execution_count": 30,
   "id": "400e30b5",
   "metadata": {},
   "outputs": [
    {
     "name": "stdout",
     "output_type": "stream",
     "text": [
      "XTENSION= 'BINTABLE'           / binary table extension                         BITPIX  =                    8 / 8-bit bytes                                    NAXIS   =                    2 / 2-dimensional binary table                     NAXIS1  =                 1392 / width of table in bytes                        NAXIS2  =                    1 / number of rows in table                        PCOUNT  =                    0 / size of special data area                      GCOUNT  =                    1 / one data group (required keyword)              TFIELDS =                    5 / number of table fields                         TTYPE1  = 'ENERG_LO'           / label for field   1                            TFORM1  = '42E     '           / data format of field 1                         TUNIT1  = 'TeV     '           / physical unit of field1                        TTYPE2  = 'ENERG_HI'           / label for field   2                            TFORM2  = '42E     '           / data format of field 2                         TUNIT2  = 'TeV     '           / physical unit of field2                        TTYPE3  = 'THETA_LO'           / label for field   3                            TFORM3  = '6E      '           / data format of field 3                         TUNIT3  = 'deg     '           / physical unit of field3                        TTYPE4  = 'THETA_HI'           / label for field   4                            TFORM4  = '6E      '           / data format of field 4                         TUNIT4  = 'deg     '           / physical unit of field4                        TTYPE5  = 'EFFAREA '           / label for field   5                            TFORM5  = '252E    '           / data format of field 5                         TUNIT5  = 'm**2    '           / physical unit of field5                        EXTNAME = 'EFFECTIVE AREA'     / name of this extension                         ORIGIN  = 'IRAP    '           / Name of organization making this file          DATE    = '2021-04-28T15:47:58' / File creation date (YYYY-MM-DDThh:mm:ss UTC)  TELESCOP= 'CTA     '           / Name of telescope                              INSTRUME= 'PROD5-V1'           / Name of instrument                             DETNAM  = 'NONE    '           / Name of detector                               HDUCLASS= 'OGIP    '           / HDU class                                      HDUDOC  = 'CAL/GEN/92-019'     / HDU documentation                              HDUCLAS1= 'RESPONSE'           / HDU class                                      HDUCLAS2= 'EFF_AREA'           / HDU class                                      HDUCLAS3= 'FULL-ENCLOSURE'     / HDU class                                      HDUCLAS4= '2D      '           / HDU class                                      HDUVERS = '0.2     '           / HDU version                                    CSYSNAME= 'XMA_POL '                                                            CCLS0001= 'BCF     '           / Calibration class                              CDTP0001= 'DATA    '           / Calibration type                               CCNM0001= 'EFF_AREA'           / Calibration name                               CBD10001= 'NAME(South_14M40S-M6C5_sens_z20_50h)' / Calibration boundary         CBD20001= 'VERSION(prod5-v1)'  / Calibration boundary                           CBD30001= 'CLASS(BEST)'        / Calibration boundary                           CBD40001= 'ANALYSIS(ASWG)'     / Calibration boundary                           CBD50001= 'ZENITH(20.000)deg'  / Calibration boundary                           CBD60001= 'AZIMUTH(90.000)deg' / Calibration boundary                           CBD70001= 'NONE    '           / Calibration boundary                           CBD80001= 'NONE    '           / Calibration boundary                           CBD90001= 'NONE    '           / Calibration boundary                           CVSD0001= '2014-01-30'         / Calibration validity start date (UTC)          CVST0001= '00:00:00'           / Calibration validity start time (UTC)          CDEC0001= 'CTA effective area' / Calibration description                        TDIM5   = '(42,6)  '           / dimensions of field 5                          END                                                                                                                                                                                                                                                                                                                                                                                                                                                                                                                                                                                                                                                                                                                                                                                                                                                                                                                                                                                                                                                                                                                                                                                                                                                                                                                                                                                                                                                                                                                                                                             \n"
     ]
    }
   ],
   "source": [
    "print(q[1].header)"
   ]
  },
  {
   "cell_type": "code",
   "execution_count": 7,
   "id": "9a5c1c41",
   "metadata": {},
   "outputs": [
    {
     "data": {
      "text/plain": [
       "ColDefs(\n",
       "    name = 'ENERG_LO'; format = '21E'; unit = 'TeV'\n",
       "    name = 'ENERG_HI'; format = '21E'; unit = 'TeV'\n",
       "    name = 'THETA_LO'; format = '6E'; unit = 'deg'\n",
       "    name = 'THETA_HI'; format = '6E'; unit = 'deg'\n",
       "    name = 'SCALE'; format = '126E'; unit = 'sr^(-1)'; dim = '(21,6)'\n",
       "    name = 'SIGMA_1'; format = '126E'; unit = 'deg'; dim = '(21,6)'\n",
       "    name = 'SIGMA_2'; format = '126E'; unit = 'deg'; dim = '(21,6)'\n",
       "    name = 'SIGMA_3'; format = '126E'; unit = 'deg'; dim = '(21,6)'\n",
       "    name = 'AMPL_2'; format = '126E'; dim = '(21,6)'\n",
       "    name = 'AMPL_3'; format = '126E'; dim = '(21,6)'\n",
       ")"
      ]
     },
     "execution_count": 7,
     "metadata": {},
     "output_type": "execute_result"
    }
   ],
   "source": [
    "hdul[2].columns"
   ]
  },
  {
   "cell_type": "code",
   "execution_count": 32,
   "id": "7bdd3f0b",
   "metadata": {},
   "outputs": [
    {
     "data": {
      "text/plain": [
       "ColDefs(\n",
       "    name = 'DETX_LO'; format = '36E'; unit = 'deg'\n",
       "    name = 'DETX_HI'; format = '36E'; unit = 'deg'\n",
       "    name = 'DETY_LO'; format = '36E'; unit = 'deg'\n",
       "    name = 'DETY_HI'; format = '36E'; unit = 'deg'\n",
       "    name = 'ENERG_LO'; format = '21E'; unit = 'TeV'\n",
       "    name = 'ENERG_HI'; format = '21E'; unit = 'TeV'\n",
       "    name = 'BKG'; format = '27216E'; unit = '1/(MeV s sr)'; dim = '(36,36,21)'\n",
       ")"
      ]
     },
     "execution_count": 32,
     "metadata": {},
     "output_type": "execute_result"
    }
   ],
   "source": [
    "q[4].columns"
   ]
  },
  {
   "cell_type": "code",
   "execution_count": 14,
   "id": "cd0a7ded",
   "metadata": {},
   "outputs": [
    {
     "data": {
      "text/plain": [
       "array([[[0., 0., 0., 0., 0., 0., 0., 0., 0., 0., 0., 0., 0., 0., 0., 0.,\n",
       "         0., 0., 0., 0., 0.],\n",
       "        [0., 0., 0., 0., 0., 0., 0., 0., 0., 0., 0., 0., 0., 0., 0., 0.,\n",
       "         0., 0., 0., 0., 0.],\n",
       "        [0., 0., 0., 0., 0., 0., 0., 0., 0., 0., 0., 0., 0., 0., 0., 0.,\n",
       "         0., 0., 0., 0., 0.],\n",
       "        [0., 0., 0., 0., 0., 0., 0., 0., 0., 0., 0., 0., 0., 0., 0., 0.,\n",
       "         0., 0., 0., 0., 0.],\n",
       "        [0., 0., 0., 0., 0., 0., 0., 0., 0., 0., 0., 0., 0., 0., 0., 0.,\n",
       "         0., 0., 0., 0., 0.],\n",
       "        [0., 0., 0., 0., 0., 0., 0., 0., 0., 0., 0., 0., 0., 0., 0., 0.,\n",
       "         0., 0., 0., 0., 0.]]], dtype=float32)"
      ]
     },
     "execution_count": 14,
     "metadata": {},
     "output_type": "execute_result"
    }
   ],
   "source": [
    "hdul[2].data['AMPL_2']"
   ]
  },
  {
   "cell_type": "code",
   "execution_count": null,
   "id": "d5eb0cba",
   "metadata": {},
   "outputs": [],
   "source": []
  }
 ],
 "metadata": {
  "kernelspec": {
   "display_name": "Python 3 (ipykernel)",
   "language": "python",
   "name": "python3"
  },
  "language_info": {
   "codemirror_mode": {
    "name": "ipython",
    "version": 3
   },
   "file_extension": ".py",
   "mimetype": "text/x-python",
   "name": "python",
   "nbconvert_exporter": "python",
   "pygments_lexer": "ipython3",
   "version": "3.9.9"
  }
 },
 "nbformat": 4,
 "nbformat_minor": 5
}
