{
 "cells": [
  {
   "cell_type": "markdown",
   "id": "82ae3090",
   "metadata": {},
   "source": [
    "# IRF Header comparision\n",
    "\n",
    "Notebook to print header data and compare it with other IRFs"
   ]
  },
  {
   "cell_type": "code",
   "execution_count": 18,
   "id": "e515993b",
   "metadata": {},
   "outputs": [],
   "source": [
    "from astropy.io import fits\n",
    "import matplotlib.pyplot as plt\n",
    "import numpy as np\n",
    "from astropy import units as u"
   ]
  },
  {
   "cell_type": "code",
   "execution_count": 24,
   "id": "c9f3d747",
   "metadata": {},
   "outputs": [],
   "source": [
    "# test IRFs\n",
    "hdul = fits.open(\"../data/Prod5-South-20deg-AverageAz-14MSTs37SSTs.180000s-v0.1.fits.gz\")\n",
    "# ctools-converted IRFs\n",
    "q=fits.open(\"../data/ctools.fits.gz\")"
   ]
  },
  {
   "cell_type": "code",
   "execution_count": 25,
   "id": "af8a69e6",
   "metadata": {},
   "outputs": [
    {
     "name": "stdout",
     "output_type": "stream",
     "text": [
      "Filename: ../data/Prod5-South-20deg-AverageAz-14MSTs37SSTs.180000s-v0.1.fits.gz\n",
      "No.    Name      Ver    Type      Cards   Dimensions   Format\n",
      "  0  PRIMARY       1 PrimaryHDU       9   ()      \n",
      "  1  EFFECTIVE AREA    1 BinTableHDU     37   1R x 5C   [42E, 42E, 6E, 6E, 252E]   \n",
      "  2  POINT SPREAD FUNCTION    1 BinTableHDU     55   1R x 10C   [21E, 21E, 6E, 6E, 126E, 126E, 126E, 126E, 126E, 126E]   \n",
      "  3  ENERGY DISPERSION    1 BinTableHDU     40   1R x 7C   [300E, 300E, 300E, 300E, 6E, 6E, 540000E]   \n",
      "  4  BACKGROUND    1 BinTableHDU     42   1R x 7C   [21E, 21E, 30E, 30E, 30E, 30E, 18900E]   \n"
     ]
    }
   ],
   "source": [
    "hdul.info()"
   ]
  },
  {
   "cell_type": "code",
   "execution_count": 26,
   "id": "0ebb38bc",
   "metadata": {},
   "outputs": [
    {
     "name": "stdout",
     "output_type": "stream",
     "text": [
      "Filename: ../data/ctools.fits.gz\n",
      "No.    Name      Ver    Type      Cards   Dimensions   Format\n",
      "  0  PRIMARY       1 PrimaryHDU       8   ()      \n",
      "  1  EFFECTIVE AREA    1 BinTableHDU     53   1R x 5C   [42E, 42E, 6E, 6E, 252E]   \n",
      "  2  POINT SPREAD FUNCTION    1 BinTableHDU     73   1R x 10C   [25E, 25E, 6E, 6E, 150E, 150E, 150E, 150E, 150E, 150E]   \n",
      "  3  ENERGY DISPERSION    1 BinTableHDU     59   1R x 7C   [500E, 500E, 300E, 300E, 6E, 6E, 900000E]   \n",
      "  4  BACKGROUND    1 BinTableHDU     59   1R x 7C   [36E, 36E, 36E, 36E, 21E, 21E, 27216E]   \n"
     ]
    }
   ],
   "source": [
    "q.info()"
   ]
  },
  {
   "cell_type": "code",
   "execution_count": 29,
   "id": "374c88f8",
   "metadata": {},
   "outputs": [
    {
     "name": "stdout",
     "output_type": "stream",
     "text": [
      "XTENSION= 'BINTABLE'           / binary table extension                         BITPIX  =                    8 / 8-bit bytes                                    NAXIS   =                    2 / 2-dimensional binary table                     NAXIS1  =                 1392 / width of table in bytes                        NAXIS2  =                    1 / number of rows in table                        PCOUNT  =                    0 / size of special data area                      GCOUNT  =                    1 / one data group (required keyword)              TFIELDS =                    5 / number of fields in each row                   TTYPE1  = 'ENERG_LO'           / label for field   1                            TFORM1  = '42E     '           / data format of field: 4-byte REAL              TUNIT1  = 'TeV     '           / physical unit of field                         TTYPE2  = 'ENERG_HI'           / label for field   2                            TFORM2  = '42E     '           / data format of field: 4-byte REAL              TUNIT2  = 'TeV     '           / physical unit of field                         TTYPE3  = 'THETA_LO'           / label for field   3                            TFORM3  = '6E      '           / data format of field: 4-byte REAL              TUNIT3  = 'deg     '           / physical unit of field                         TTYPE4  = 'THETA_HI'           / label for field   4                            TFORM4  = '6E      '           / data format of field: 4-byte REAL              TUNIT4  = 'deg     '           / physical unit of field                         TTYPE5  = 'EFFAREA '           / label for field   5                            TFORM5  = '252E    '           / data format of field: 4-byte REAL              TUNIT5  = 'm**2    '           / physical unit of field                         EXTNAME = 'EFFECTIVE AREA'     / name of this binary table extension            TDIM5   = '(42,6)  '           / size of the multidimensional array             TELESCOP= 'CTA     '           / Name of telescope                              INSTRUME= 'Southern Array'     / Instrument                                     AUTHOR  = 'G.Maier '           / Author                                         ORIGIN  = 'CTAO    '           / Origin                                         DATE    = '2021-07-04T19:07:21' / File creation date (YYYY-MM-DDThh:mm:ss UTC)  HDUDOC  = 'https://github.com/open-gamma-ray-astro/gamma-astro-data-formats'    HDUVERS = '0.2     '           / HDU version                                    HDUCLASS= 'GADF    '           / HDUCLASS                                       HDUCLAS1= 'RESPONSE'           / HDUCLAS1                                       HDUCLAS2= 'EFF_AREA'           / HDUCLAS1                                       HDUCLAS3= 'FULL-ENCLOSURE'     / HDUCLAS3                                       HDUCLAS4= 'AEFF_2D '           / HDUCLAS4                                       END                                                                                                                                                                                                                                                                                                                                                                                                                                                                                                                                                                                                                                                                                                                                                                                                                                                                                                                                                                                                                                                                                                                                                                                                                                                                                                                                                                                                                                                                                                                                                                                                                                                                                                                                                                                                                                                                                                                                                                                                                                                                                                                                                                                                                                                                                                                                                                                                                                                                                                                                                                                                                                                                                                                                                                                                                                                                                                             \n"
     ]
    }
   ],
   "source": [
    "print(hdul[1].header)"
   ]
  },
  {
   "cell_type": "code",
   "execution_count": 30,
   "id": "146f14bb",
   "metadata": {},
   "outputs": [
    {
     "name": "stdout",
     "output_type": "stream",
     "text": [
      "XTENSION= 'BINTABLE'           / binary table extension                         BITPIX  =                    8 / 8-bit bytes                                    NAXIS   =                    2 / 2-dimensional binary table                     NAXIS1  =                 1392 / width of table in bytes                        NAXIS2  =                    1 / number of rows in table                        PCOUNT  =                    0 / size of special data area                      GCOUNT  =                    1 / one data group (required keyword)              TFIELDS =                    5 / number of table fields                         TTYPE1  = 'ENERG_LO'           / label for field   1                            TFORM1  = '42E     '           / data format of field 1                         TUNIT1  = 'TeV     '           / physical unit of field1                        TTYPE2  = 'ENERG_HI'           / label for field   2                            TFORM2  = '42E     '           / data format of field 2                         TUNIT2  = 'TeV     '           / physical unit of field2                        TTYPE3  = 'THETA_LO'           / label for field   3                            TFORM3  = '6E      '           / data format of field 3                         TUNIT3  = 'deg     '           / physical unit of field3                        TTYPE4  = 'THETA_HI'           / label for field   4                            TFORM4  = '6E      '           / data format of field 4                         TUNIT4  = 'deg     '           / physical unit of field4                        TTYPE5  = 'EFFAREA '           / label for field   5                            TFORM5  = '252E    '           / data format of field 5                         TUNIT5  = 'm**2    '           / physical unit of field5                        EXTNAME = 'EFFECTIVE AREA'     / name of this extension                         ORIGIN  = 'IRAP    '           / Name of organization making this file          DATE    = '2021-04-28T15:47:58' / File creation date (YYYY-MM-DDThh:mm:ss UTC)  TELESCOP= 'CTA     '           / Name of telescope                              INSTRUME= 'PROD5-V1'           / Name of instrument                             DETNAM  = 'NONE    '           / Name of detector                               HDUCLASS= 'OGIP    '           / HDU class                                      HDUDOC  = 'CAL/GEN/92-019'     / HDU documentation                              HDUCLAS1= 'RESPONSE'           / HDU class                                      HDUCLAS2= 'EFF_AREA'           / HDU class                                      HDUCLAS3= 'FULL-ENCLOSURE'     / HDU class                                      HDUCLAS4= '2D      '           / HDU class                                      HDUVERS = '0.2     '           / HDU version                                    CSYSNAME= 'XMA_POL '                                                            CCLS0001= 'BCF     '           / Calibration class                              CDTP0001= 'DATA    '           / Calibration type                               CCNM0001= 'EFF_AREA'           / Calibration name                               CBD10001= 'NAME(South_14M40S-M6C5_sens_z20_50h)' / Calibration boundary         CBD20001= 'VERSION(prod5-v1)'  / Calibration boundary                           CBD30001= 'CLASS(BEST)'        / Calibration boundary                           CBD40001= 'ANALYSIS(ASWG)'     / Calibration boundary                           CBD50001= 'ZENITH(20.000)deg'  / Calibration boundary                           CBD60001= 'AZIMUTH(90.000)deg' / Calibration boundary                           CBD70001= 'NONE    '           / Calibration boundary                           CBD80001= 'NONE    '           / Calibration boundary                           CBD90001= 'NONE    '           / Calibration boundary                           CVSD0001= '2014-01-30'         / Calibration validity start date (UTC)          CVST0001= '00:00:00'           / Calibration validity start time (UTC)          CDEC0001= 'CTA effective area' / Calibration description                        TDIM5   = '(42,6)  '           / dimensions of field 5                          END                                                                                                                                                                                                                                                                                                                                                                                                                                                                                                                                                                                                                                                                                                                                                                                                                                                                                                                                                                                                                                                                                                                                                                                                                                                                                                                                                                                                                                                                                                                                                                             \n"
     ]
    }
   ],
   "source": [
    "print(q[1].header)"
   ]
  },
  {
   "cell_type": "code",
   "execution_count": 31,
   "id": "c1bd803d",
   "metadata": {},
   "outputs": [
    {
     "data": {
      "text/plain": [
       "ColDefs(\n",
       "    name = 'ENERG_LO'; format = '21E'; unit = 'TeV'\n",
       "    name = 'ENERG_HI'; format = '21E'; unit = 'TeV'\n",
       "    name = 'DETX_LO'; format = '30E'; unit = 'deg'\n",
       "    name = 'DETX_HI'; format = '30E'; unit = 'deg'\n",
       "    name = 'DETY_LO'; format = '30E'; unit = 'deg'\n",
       "    name = 'DETY_HI'; format = '30E'; unit = 'deg'\n",
       "    name = 'BKG'; format = '18900E'; unit = 's^-1 MeV^-1 sr^-1'; dim = '(21,30,30)'\n",
       ")"
      ]
     },
     "execution_count": 31,
     "metadata": {},
     "output_type": "execute_result"
    }
   ],
   "source": [
    "hdul[4].columns"
   ]
  },
  {
   "cell_type": "code",
   "execution_count": 32,
   "id": "0346478f",
   "metadata": {},
   "outputs": [
    {
     "data": {
      "text/plain": [
       "ColDefs(\n",
       "    name = 'DETX_LO'; format = '36E'; unit = 'deg'\n",
       "    name = 'DETX_HI'; format = '36E'; unit = 'deg'\n",
       "    name = 'DETY_LO'; format = '36E'; unit = 'deg'\n",
       "    name = 'DETY_HI'; format = '36E'; unit = 'deg'\n",
       "    name = 'ENERG_LO'; format = '21E'; unit = 'TeV'\n",
       "    name = 'ENERG_HI'; format = '21E'; unit = 'TeV'\n",
       "    name = 'BKG'; format = '27216E'; unit = '1/(MeV s sr)'; dim = '(36,36,21)'\n",
       ")"
      ]
     },
     "execution_count": 32,
     "metadata": {},
     "output_type": "execute_result"
    }
   ],
   "source": [
    "q[4].columns"
   ]
  }
 ],
 "metadata": {
  "kernelspec": {
   "display_name": "Python 3",
   "language": "python",
   "name": "python3"
  },
  "language_info": {
   "codemirror_mode": {
    "name": "ipython",
    "version": 3
   },
   "file_extension": ".py",
   "mimetype": "text/x-python",
   "name": "python",
   "nbconvert_exporter": "python",
   "pygments_lexer": "ipython3",
   "version": "3.7.0"
  }
 },
 "nbformat": 4,
 "nbformat_minor": 5
}
